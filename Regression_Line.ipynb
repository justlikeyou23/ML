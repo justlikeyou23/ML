{
 "cells": [
  {
   "cell_type": "code",
   "execution_count": 1,
   "metadata": {},
   "outputs": [],
   "source": [
    "#Linear Regression\n",
    "#Correlation between data and features\n",
    "# Based on the X axis, Y axis is drawn which is dependent on X\n",
    "# X axis has features and Y axis has labels predicted from features\n",
    "# y=Ax+B\n",
    "# B= mean(y) -m*mean(x)\n",
    "# A = (mean(x) * mean(y) - mean(x*y)) / ( (mean(x)^2) - (mean(x^2) )"
   ]
  },
  {
   "cell_type": "code",
   "execution_count": 6,
   "metadata": {},
   "outputs": [
    {
     "name": "stdout",
     "output_type": "stream",
     "text": [
      "0.29999999999999893 4.300000000000003\n"
     ]
    },
    {
     "data": {
      "image/png": "[encoded data removed]",
      "text/plain": [
       "<Figure size 432x288 with 1 Axes>"
      ]
     },
     "metadata": {},
     "output_type": "display_data"
    }
   ],
   "source": [
    "import numpy as np\n",
    "from statistics import mean\n",
    "xs = [1,2,3,4,5]\n",
    "ys = [5,4,6,5,6]\n",
    "\n",
    "xs = np.array([1,2,3,4,5],dtype=np.float64)\n",
    "ys = np.array([5,4,6,5,6],dtype=np.float64)\n",
    "\n",
    "def best_intercept_slope (xs,ys):\n",
    "    m = (((mean(xs) * mean(ys))-mean(xs*ys))/((mean(xs) * mean(xs))- mean(xs*xs)))\n",
    "    b = mean(ys) - m*mean(xs)\n",
    "    return m,b\n",
    "\n",
    "m,b = best_intercept_slope(xs,ys)\n",
    "print(m,b)\n",
    "\n",
    "regression_line = [ (m*x) + b for x in xs]\n",
    "#regression_line = []\n",
    "#for x in xs:\n",
    "#  regression_line.append((m*x)+b)\n",
    "\n",
    "predict_x=7\n",
    "predict_y=(m*predict_x)+b\n",
    "\n",
    "import matplotlib.pyplot as plt\n",
    "from matplotlib import style\n",
    "\n",
    "style.use('ggplot')\n",
    "plt.scatter(predict_x, predict_y, color = '#003F72')\n",
    "plt.plot(xs, regression_line)\n",
    "plt.show()\n"
   ]
  },
  {
   "cell_type": "code",
   "execution_count": null,
   "metadata": {},
   "outputs": [],
   "source": []
  }
 ],
 "metadata": {
  "kernelspec": {
   "display_name": "Python 3",
   "language": "python",
   "name": "python3"
  },
  "language_info": {
   "codemirror_mode": {
    "name": "ipython",
    "version": 3
   },
   "file_extension": ".py",
   "mimetype": "text/x-python",
   "name": "python",
   "nbconvert_exporter": "python",
   "pygments_lexer": "ipython3",
   "version": "3.7.4"
  }
 },
 "nbformat": 4,
 "nbformat_minor": 2
}
